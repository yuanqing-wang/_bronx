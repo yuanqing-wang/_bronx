{
 "cells": [
  {
   "cell_type": "code",
   "execution_count": 1,
   "metadata": {},
   "outputs": [],
   "source": [
    "! export PYTHONPATH=$PYTHONPATH:/data/chodera/wangyq/bronx/"
   ]
  },
  {
   "cell_type": "code",
   "execution_count": 3,
   "metadata": {},
   "outputs": [],
   "source": [
    "import sys\n",
    "sys.path.append('/data/chodera/wangyq/bronx/')"
   ]
  },
  {
   "cell_type": "code",
   "execution_count": 14,
   "metadata": {},
   "outputs": [],
   "source": [
    "import bronx\n",
    "import torch\n",
    "import dgl\n",
    "import pyro\n",
    "from matplotlib import pyplot as plt"
   ]
  },
  {
   "cell_type": "code",
   "execution_count": 8,
   "metadata": {},
   "outputs": [],
   "source": [
    "model = torch.load(\"/data/chodera/wangyq/node_classification/best.pt\", map_location=torch.device('cpu'))"
   ]
  },
  {
   "cell_type": "code",
   "execution_count": 9,
   "metadata": {},
   "outputs": [
    {
     "data": {
      "text/plain": [
       "NodeClassificationBronxModel(\n",
       "  (fc_in): Sequential(\n",
       "    (0): Linear(in_features=1433, out_features=42, bias=False)\n",
       "  )\n",
       "  (fc_out): Sequential(\n",
       "    (0): ELU(alpha=1.0)\n",
       "    (1): Dropout(p=0.5303411489006438, inplace=False)\n",
       "    (2): Linear(in_features=42, out_features=7, bias=False)\n",
       "  )\n",
       "  (activation): ELU(alpha=1.0)\n",
       "  (layer0): BronxLayer(\n",
       "    (fc_mu): Linear(in_features=42, out_features=147, bias=False)\n",
       "    (fc_log_sigma): Linear(in_features=42, out_features=147, bias=False)\n",
       "    (fc_k): Linear(in_features=42, out_features=147, bias=False)\n",
       "    (fc_mu_prior): Linear(in_features=42, out_features=21, bias=False)\n",
       "    (fc_log_sigma_prior): Linear(in_features=42, out_features=21, bias=False)\n",
       "    (activation): ELU(alpha=1.0)\n",
       "    (linear_diffusion): LinearDiffusion(\n",
       "      (odefunc): ODEFunc()\n",
       "    )\n",
       "    (norm): LayerNorm((42,), eps=1e-05, elementwise_affine=True)\n",
       "    (dropout): Dropout(p=0.6939372020133809, inplace=False)\n",
       "  )\n",
       "  (consistency_regularizer): ConsistencyRegularizer()\n",
       ")"
      ]
     },
     "execution_count": 9,
     "metadata": {},
     "output_type": "execute_result"
    }
   ],
   "source": [
    "model"
   ]
  },
  {
   "cell_type": "code",
   "execution_count": 29,
   "metadata": {},
   "outputs": [],
   "source": [
    "def graph_forward(self, g, h, y=None, mask=None):\n",
    "    h = self.fc_in(h)\n",
    "    for idx in range(self.depth):\n",
    "        h = getattr(self, f\"layer{idx}\")(g, h)\n",
    "    return g"
   ]
  },
  {
   "cell_type": "code",
   "execution_count": 30,
   "metadata": {},
   "outputs": [],
   "source": [
    "from run import get_graph\n",
    "g = get_graph(\"CoraGraphDataset\")"
   ]
  },
  {
   "cell_type": "code",
   "execution_count": 31,
   "metadata": {},
   "outputs": [],
   "source": [
    "g = graph_forward(model, g, g.ndata[\"feat\"])"
   ]
  },
  {
   "cell_type": "code",
   "execution_count": 34,
   "metadata": {},
   "outputs": [],
   "source": [
    "param_store = pyro.get_param_store()"
   ]
  },
  {
   "cell_type": "code",
   "execution_count": 38,
   "metadata": {},
   "outputs": [],
   "source": [
    "predictive = pyro.infer.Predictive(\n",
    "    model,\n",
    "    guide=model.guide,\n",
    "    num_samples=4,\n",
    "    parallel=True,\n",
    ")\n",
    "\n",
    "results = predictive(g, g.ndata[\"feat\"])"
   ]
  },
  {
   "cell_type": "code",
   "execution_count": 41,
   "metadata": {},
   "outputs": [
    {
     "data": {
      "text/plain": [
       "torch.Size([4, 10556, 21, 1])"
      ]
     },
     "execution_count": 41,
     "metadata": {},
     "output_type": "execute_result"
    }
   ],
   "source": [
    "results[\"e0\"].shape"
   ]
  },
  {
   "cell_type": "code",
   "execution_count": 45,
   "metadata": {},
   "outputs": [],
   "source": [
    "from matplotlib import pyplot as plt\n",
    "import seaborn as sns\n",
    "e = results[\"e0\"].flatten().detach().numpy()\n"
   ]
  },
  {
   "cell_type": "code",
   "execution_count": 87,
   "metadata": {},
   "outputs": [],
   "source": [
    "h = g.ndata[\"feat\"]\n",
    "h = model.fc_in(h)\n",
    "h = model.layer0.norm(h)\n",
    "mu_prior, log_sigma_prior = model.layer0.fc_mu_prior(h), model.layer0.fc_log_sigma_prior(h)\n",
    "src, dst = g.edges()\n",
    "mu_prior = mu_prior[..., dst, :]\n",
    "log_sigma_prior = log_sigma_prior[..., dst, :]\n",
    "mu_prior, log_sigma_prior = mu_prior.unsqueeze(-1), log_sigma_prior.unsqueeze(-1)\n",
    "sigma_prior = log_sigma_prior.exp() * model.layer0.sigma_factor"
   ]
  },
  {
   "cell_type": "code",
   "execution_count": 89,
   "metadata": {},
   "outputs": [],
   "source": [
    "from math import log\n",
    "mu_posterior, log_sigma_posterior, k_posterior = model.layer0.fc_mu(h), model.layer0.fc_log_sigma(h), model.layer0.fc_k(h)\n",
    "mu_posterior = mu_posterior.reshape(*mu_posterior.shape[:-1], model.layer0.num_heads, -1)\n",
    "log_sigma_posterior = log_sigma_posterior.reshape(\n",
    "    *log_sigma_posterior.shape[:-1], model.layer0.num_heads, -1\n",
    ")\n",
    "k_posterior = k_posterior.reshape(*k_posterior.shape[:-1], model.layer0.num_heads, -1)\n",
    "\n",
    "g.ndata[\"mu_posterior\"], g.ndata[\"log_sigma_posterior\"], g.ndata[\"k_posterior\"] = mu_posterior, log_sigma_posterior, k_posterior\n",
    "g.apply_edges(dgl.function.u_dot_v(\"k_posterior\", \"mu_posterior\", \"mu_posterior\"))\n",
    "g.apply_edges(\n",
    "    dgl.function.u_dot_v(\"k_posterior\", \"log_sigma_posterior\", \"log_sigma_posterior\")\n",
    ")\n",
    "\n",
    "mu_posterior = g.edata[\"mu_posterior\"]\n",
    "log_sigma_posterior = g.edata[\"log_sigma_posterior\"] \n",
    "sigma_posterior = log_sigma_posterior.exp() * model.layer0.sigma_factor"
   ]
  },
  {
   "cell_type": "code",
   "execution_count": 103,
   "metadata": {},
   "outputs": [
    {
     "data": {
      "text/plain": [
       "(0.0, 1.0)"
      ]
     },
     "execution_count": 103,
     "metadata": {},
     "output_type": "execute_result"
    },
    {
     "data": {
      "image/png": "[encoded data removed]",
      "text/plain": [
       "<Figure size 200x200 with 1 Axes>"
      ]
     },
     "metadata": {},
     "output_type": "display_data"
    }
   ],
   "source": [
    "fig, ax = plt.subplots(1, 1, figsize=(2, 2))\n",
    "e_posterior = torch.distributions.Normal(mu_posterior, sigma_posterior).sample().flatten().sigmoid()\n",
    "sns.kdeplot(e_posterior)\n",
    "ax.set_xlim(0, 1)"
   ]
  },
  {
   "cell_type": "code",
   "execution_count": null,
   "metadata": {},
   "outputs": [],
   "source": []
  }
 ],
 "metadata": {
  "kernelspec": {
   "display_name": "bronx",
   "language": "python",
   "name": "python3"
  },
  "language_info": {
   "codemirror_mode": {
    "name": "ipython",
    "version": 3
   },
   "file_extension": ".py",
   "mimetype": "text/x-python",
   "name": "python",
   "nbconvert_exporter": "python",
   "pygments_lexer": "ipython3",
   "version": "3.11.4"
  }
 },
 "nbformat": 4,
 "nbformat_minor": 2
}
